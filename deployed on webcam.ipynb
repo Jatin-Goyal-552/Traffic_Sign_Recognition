{
 "cells": [
  {
   "cell_type": "code",
   "execution_count": 10,
   "metadata": {},
   "outputs": [],
   "source": [
    "import cv2\n",
    "import tensorflow as tf\n",
    "from keras.models import load_model\n",
    "import pickle\n",
    "from keras.preprocessing.image import load_img\n",
    "from keras.preprocessing.image import img_to_array\n",
    "from keras.preprocessing import image\n",
    "import numpy as np\n",
    "import random\n",
    "import keyboard\n",
    "from time import sleep\n",
    "from PIL import Image, ImageOps\n",
    "import matplotlib.pyplot as plt"
   ]
  },
  {
   "cell_type": "code",
   "execution_count": 11,
   "metadata": {},
   "outputs": [],
   "source": [
    "dic={0: 'Speed limit (20km/h)', 1: 'Speed limit (30km/h)', 2: 'Speed limit (50km/h)', 3: 'Speed limit (60km/h)', 4: 'Speed limit (70km/h)', 5: 'Speed limit (80km/h)', 6: 'End of speed limit (80km/h)', 7: 'Speed limit (100km/h)', 8: 'Speed limit (120km/h)', 9: 'No passing', 10: 'No passing for vechiles over 3.5 metric tons', 11: 'Right-of-way at the next intersection', 12: 'Priority road', 13: 'Yield', 14: 'Stop', 15: 'No vechiles', 16: 'Vechiles over 3.5 metric tons prohibited', 17: 'No entry', 18: 'General caution', 19: 'Dangerous curve to the left', 20: 'Dangerous curve to the right', 21: 'Double curve', 22: 'Bumpy road', 23: 'Slippery road', 24: 'Road narrows on the right', 25: 'Road work', 26: 'Traffic signals', 27: 'Pedestrians', 28: 'Children crossing', 29: 'Bicycles crossing', 30: 'Beware of ice/snow', 31: 'Wild animals crossing', 32: 'End of all speed and passing limits', 33: 'Turn right ahead', 34: 'Turn left ahead', 35: 'Ahead only', 36: 'Go straight or right', 37: 'Go straight or left', 38: 'Keep right', 39: 'Keep left', 40: 'Roundabout mandatory', 41: 'End of no passing', 42: 'End of no passing by vechiles over 3.5 metric tons'}\n",
    "model = load_model('Vgg_traffic_model.h5')\n",
    "def load_image(filename,new_model):\n",
    "    img = image.load_img(filename,target_size = (32,32))\n",
    "#     flippedimage= cv2.flip(img, 1)\n",
    "    img=np.flip(img, 1)\n",
    "    plt.imshow(img)\n",
    "    cv2.imwrite('flipped.jpg', img)\n",
    "    img = np.array(img)/255.0\n",
    "    img = np.expand_dims(img,axis = 0) \n",
    "#     img = img.reshape(-1,32,32,1)\n",
    "    result = new_model.predict(img)\n",
    "#     print(\"result\",result)\n",
    "    result = list(result[0])\n",
    "#     print(\"arg\",np.argmax(result))\n",
    "    img_index = result.index(max(result))\n",
    "#     print(\"index\",img_index)\n",
    "#     print(\"len\",len(result))\n",
    "    return dic[img_index]"
   ]
  },
  {
   "cell_type": "code",
   "execution_count": 12,
   "metadata": {},
   "outputs": [
    {
     "data": {
      "image/png": "[encoded data removed]",
      "text/plain": [
       "<Figure size 432x288 with 1 Axes>"
      ]
     },
     "metadata": {
      "needs_background": "light"
     },
     "output_type": "display_data"
    }
   ],
   "source": [
    "vid = cv2.VideoCapture(0)\n",
    "\n",
    "font = cv2.FONT_HERSHEY_SIMPLEX \n",
    "org = (70, 40) \n",
    "fontScale = 1.0\n",
    "color = (255, 255, 0) \n",
    "thickness = 3\n",
    "while True:\n",
    "    ret,frame=vid.read()\n",
    "    cv2.rectangle(frame, (60,150), (210,300), (255,0,0),2)\n",
    "    cv2.putText(frame, \"Put your sign in blue box \", (130,30), font, fontScale, (255,0,0), thickness, cv2.LINE_AA)\n",
    "    img2=frame[150:300,60:210]\n",
    "    cv2.imwrite(\"test.jpg\", img2)\n",
    "    pred2=load_image('test.jpg',model)\n",
    "    cv2.putText(frame, pred2, (150,400), font,  \n",
    "                           1, (0,255,0), 3, cv2.LINE_AA) \n",
    "    cv2.imshow(\"frame\",frame)\n",
    "    if cv2.waitKey(1) & 0xFF == ord('q'): \n",
    "        break\n",
    "  \n",
    "vid.release() \n",
    "cv2.destroyAllWindows()"
   ]
  },
  {
   "cell_type": "code",
   "execution_count": null,
   "metadata": {},
   "outputs": [],
   "source": []
  }
 ],
 "metadata": {
  "kernelspec": {
   "display_name": "Python 3",
   "language": "python",
   "name": "python3"
  },
  "language_info": {
   "codemirror_mode": {
    "name": "ipython",
    "version": 3
   },
   "file_extension": ".py",
   "mimetype": "text/x-python",
   "name": "python",
   "nbconvert_exporter": "python",
   "pygments_lexer": "ipython3",
   "version": "3.7.4"
  }
 },
 "nbformat": 4,
 "nbformat_minor": 2
}
